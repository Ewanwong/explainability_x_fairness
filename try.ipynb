{
 "cells": [
  {
   "cell_type": "code",
   "execution_count": 34,
   "id": "5d392bb1",
   "metadata": {},
   "outputs": [
    {
     "name": "stdout",
     "output_type": "stream",
     "text": [
      "0.25298221281347033\n",
      "0.2672556226012216\n",
      "0.0791330100223267\n"
     ]
    }
   ],
   "source": [
    "import numpy as np\n",
    "import matplotlib.pyplot as plt\n",
    "import scipy\n",
    "def sample_and_estimate_covariance(n, m1, m2, v1, v2, c1, seed=None):\n",
    "    if seed is not None:\n",
    "        np.random.seed(seed)\n",
    "\n",
    "    # Define the mean vector and covariance matrix\n",
    "    mean = [m1, m2]\n",
    "    cov_matrix = [[v1, c1], [c1, v2]]\n",
    "\n",
    "    # Sample from the bivariate normal distribution\n",
    "    samples = np.random.multivariate_normal(mean, cov_matrix, size=n)\n",
    "\n",
    "    # Split into individual variables\n",
    "    x = samples[:, 0]\n",
    "    y = samples[:, 1]\n",
    "\n",
    "    # Compute correlation coefficient\n",
    "    # sample_cov_matrix = scipy.stats.pearsonr(x, y)\n",
    "    sample_cov = scipy.stats.pearsonr(x, y)[0]\n",
    "\n",
    "    return sample_cov\n",
    "\n",
    "n = 100,\n",
    "m1, m2 = 1, 10\n",
    "v1, v2 = 1, 10\n",
    "c1 = 0.8 \n",
    "print(c1/ ((v1 * v2) ** 0.5))\n",
    "estimated_covs = []\n",
    "for seed in range(10):\n",
    "    cov = sample_and_estimate_covariance(\n",
    "        n=n,\n",
    "        m1=m1,\n",
    "        m2=m2,\n",
    "        v1=v1,\n",
    "        v2=v2,\n",
    "        c1=c1,\n",
    "        seed=seed\n",
    "    )\n",
    "    estimated_covs.append(cov)\n",
    "\n",
    "print(np.mean(estimated_covs))\n",
    "print(np.std(estimated_covs))"
   ]
  }
 ],
 "metadata": {
  "kernelspec": {
   "display_name": "bcos",
   "language": "python",
   "name": "python3"
  },
  "language_info": {
   "codemirror_mode": {
    "name": "ipython",
    "version": 3
   },
   "file_extension": ".py",
   "mimetype": "text/x-python",
   "name": "python",
   "nbconvert_exporter": "python",
   "pygments_lexer": "ipython3",
   "version": "3.9.18"
  }
 },
 "nbformat": 4,
 "nbformat_minor": 5
}
