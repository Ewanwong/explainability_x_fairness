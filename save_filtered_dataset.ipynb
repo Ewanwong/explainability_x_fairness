{
 "cells": [
  {
   "cell_type": "code",
   "execution_count": 1,
   "id": "230dc041",
   "metadata": {},
   "outputs": [
    {
     "name": "stderr",
     "output_type": "stream",
     "text": [
      "/nethome/yifwang/anaconda3/envs/bcos/lib/python3.9/site-packages/tqdm/auto.py:21: TqdmWarning: IProgress not found. Please update jupyter and ipywidgets. See https://ipywidgets.readthedocs.io/en/stable/user_install.html\n",
      "  from .autonotebook import tqdm as notebook_tqdm\n"
     ]
    }
   ],
   "source": [
    "from utils.dataset_utils import split_by_filtering, merge_dataset_list, customized_load_dataset, customized_split_dataset\n",
    "from utils.vocabulary import*\n",
    "from utils.utils import set_random_seed\n",
    "import os\n",
    "set_random_seed(42)\n",
    "\n",
    "filtered_dataset_dir = \"/scratch/yifwang/new_fairness_x_explainability/filtered_datasets\"\n",
    "if not os.path.exists(filtered_dataset_dir):\n",
    "    os.makedirs(filtered_dataset_dir)\n",
    "split_ratio = \"8,2\"\n",
    "bias_type = \"race\"\n",
    "split_ratio_list = split_ratio.split(\",\")\n",
    "split_ratio_list = [int(i) for i in split_ratio_list]"
   ]
  },
  {
   "cell_type": "code",
   "execution_count": 2,
   "id": "e03e88b4",
   "metadata": {},
   "outputs": [
    {
     "name": "stderr",
     "output_type": "stream",
     "text": [
      "Map: 100%|██████████| 9896/9896 [00:00<00:00, 13587.08 examples/s]\n",
      "Map: 100%|██████████| 4872/4872 [00:00<00:00, 17467.33 examples/s]\n",
      "Map: 100%|██████████| 9896/9896 [00:00<00:00, 18699.52 examples/s]\n",
      "Map: 100%|██████████| 4872/4872 [00:00<00:00, 18788.48 examples/s]\n",
      "Map: 100%|██████████| 16698/16698 [00:00<00:00, 18022.51 examples/s]\n",
      "Map: 100%|██████████| 7969/7969 [00:00<00:00, 18418.25 examples/s]\n",
      "Map: 100%|██████████| 16698/16698 [00:00<00:00, 16740.60 examples/s]\n",
      "Map: 100%|██████████| 7969/7969 [00:00<00:00, 19505.29 examples/s]\n"
     ]
    },
    {
     "name": "stdout",
     "output_type": "stream",
     "text": [
      "filtering dataset by bias type: race\n"
     ]
    },
    {
     "name": "stderr",
     "output_type": "stream",
     "text": [
      "100%|██████████| 21275/21275 [01:42<00:00, 207.71it/s]\n"
     ]
    }
   ],
   "source": [
    "dataset_list = []\n",
    "bias_type = 'race'\n",
    "groups = SOCIAL_GROUPS[bias_type]\n",
    "for group in groups:\n",
    "    dataset_list.append(customized_load_dataset(\"lighteval/civil_comments_helm\", group))\n",
    "\n",
    "dataset = merge_dataset_list(dataset_list)\n",
    "train_dataset, val_dataset, test_dataset = customized_split_dataset(dataset, split_ratio=split_ratio)\n",
    "print(\"filtering dataset by bias type:\", bias_type)\n",
    "relevant_train_dataset = split_by_filtering(train_dataset, bias_type)"
   ]
  },
  {
   "cell_type": "code",
   "execution_count": 3,
   "id": "41d765a1",
   "metadata": {},
   "outputs": [
    {
     "name": "stderr",
     "output_type": "stream",
     "text": [
      "Saving the dataset (1/1 shards): 100%|██████████| 4579/4579 [00:00<00:00, 17278.69 examples/s]\n",
      "Saving the dataset (1/1 shards): 100%|██████████| 9920/9920 [00:00<00:00, 24979.41 examples/s]"
     ]
    },
    {
     "name": "stdout",
     "output_type": "stream",
     "text": [
      "Saved relevant train dataset to /scratch/yifwang/new_fairness_x_explainability/filtered_datasets/civil_race_relevant_train_split_ratio_8_2\n"
     ]
    },
    {
     "name": "stderr",
     "output_type": "stream",
     "text": [
      "\n"
     ]
    }
   ],
   "source": [
    "from datasets import DatasetDict\n",
    "\n",
    "relevant_train_dataset_dict = DatasetDict(relevant_train_dataset)\n",
    "path = os.path.join(filtered_dataset_dir, f\"civil_{bias_type}_relevant_train_split_ratio_{split_ratio_list[0]}_{split_ratio_list[1]}\")\n",
    "\n",
    "relevant_train_dataset_dict.save_to_disk(path)\n",
    "print(f\"Saved relevant train dataset to {path}\")"
   ]
  },
  {
   "cell_type": "code",
   "execution_count": 4,
   "id": "7701daa9",
   "metadata": {},
   "outputs": [
    {
     "data": {
      "text/plain": [
       "DatasetDict({\n",
       "    black: Dataset({\n",
       "        features: ['text', 'label'],\n",
       "        num_rows: 4579\n",
       "    })\n",
       "    white: Dataset({\n",
       "        features: ['text', 'label'],\n",
       "        num_rows: 9920\n",
       "    })\n",
       "})"
      ]
     },
     "execution_count": 4,
     "metadata": {},
     "output_type": "execute_result"
    }
   ],
   "source": [
    "from datasets import load_from_disk\n",
    "dataset = load_from_disk(path)\n",
    "dataset"
   ]
  }
 ],
 "metadata": {
  "kernelspec": {
   "display_name": "bcos",
   "language": "python",
   "name": "python3"
  },
  "language_info": {
   "codemirror_mode": {
    "name": "ipython",
    "version": 3
   },
   "file_extension": ".py",
   "mimetype": "text/x-python",
   "name": "python",
   "nbconvert_exporter": "python",
   "pygments_lexer": "ipython3",
   "version": "3.9.18"
  }
 },
 "nbformat": 4,
 "nbformat_minor": 5
}
