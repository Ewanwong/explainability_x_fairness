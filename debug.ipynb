{
 "cells": [
  {
   "cell_type": "code",
   "execution_count": 23,
   "id": "f2b48fea",
   "metadata": {},
   "outputs": [],
   "source": [
    "import json\n",
    "from utils.vocabulary import *\n",
    "bias_type = \"race\"\n",
    "model = \"llama_3b\"\n",
    "methods = [\"Attention\", \"Saliency\", \"DeepLift\", \"InputXGradient\", \"IntegratedGradients\", \"Occlusion\", \"KernelShap\"]\n",
    "data = \"jigsaw\"\n",
    "if data == \"civil\":\n",
    "    num_examples = {\"race\": 2000, \"gender\": 2000, \"religion\": 1000}\n",
    "elif data == \"jigsaw\":\n",
    "    num_examples = {\"race\": 400, \"gender\": 800, \"religion\": 200}\n",
    "expl_predictions = {}\n",
    "fairness_predictions = {}\n",
    "fairness_file = f\"/scratch/yifwang/new_fairness_x_explainability/decoder_results_{data}/{model}_{data}_{bias_type}_test_{num_examples[bias_type]}/zero_shot/fairness/fairness_{bias_type}_test_individual_stats.json\"\n",
    "with open(fairness_file, \"r\") as f:\n",
    "    fairness_predictions = json.load(f)\n",
    "for group in SOCIAL_GROUPS[bias_type]:\n",
    "    fairness_predictions[group] = fairness_predictions[\"Predictions\"][group][group]\n",
    "\n",
    "for method in methods: \n",
    "    \n",
    "    for group in SOCIAL_GROUPS[bias_type]:\n",
    "        explanation_path = f\"/scratch/yifwang/new_fairness_x_explainability/decoder_results_{data}/{model}_{data}_{bias_type}_test_{num_examples[bias_type]}/zero_shot/explanations/{method}_{group}_test_explanations.json\"\n",
    "        with open(explanation_path, \"r\") as f:\n",
    "            explanations = json.load(f)\n",
    "        for aggregation in explanations.keys():\n",
    "            if aggregation not in expl_predictions:\n",
    "                expl_predictions[aggregation] = {}\n",
    "            expl_predictions[aggregation][group] = [expl[0][\"predicted_class\"] for expl in explanations[aggregation]]\n",
    "\n",
    "            "
   ]
  },
  {
   "cell_type": "code",
   "execution_count": 24,
   "id": "feb8c99c",
   "metadata": {},
   "outputs": [
    {
     "name": "stdout",
     "output_type": "stream",
     "text": [
      "black IntegratedGradients_L2 Mismatches: 16 out of 400\n",
      "Mismatch indices: [9, 22, 63, 114, 129, 192, 197, 209, 217, 265, 270, 278, 342, 352, 362, 391]\n",
      "white IntegratedGradients_L2 Mismatches: 13 out of 400\n",
      "Mismatch indices: [19, 23, 55, 71, 121, 126, 167, 185, 232, 236, 351, 379, 395]\n",
      "black IntegratedGradients_mean Mismatches: 16 out of 400\n",
      "Mismatch indices: [9, 22, 63, 114, 129, 192, 197, 209, 217, 265, 270, 278, 342, 352, 362, 391]\n",
      "white IntegratedGradients_mean Mismatches: 13 out of 400\n",
      "Mismatch indices: [19, 23, 55, 71, 121, 126, 167, 185, 232, 236, 351, 379, 395]\n"
     ]
    }
   ],
   "source": [
    "# see whether the explanations are consistent with the fairness predictions\n",
    "for aggr in expl_predictions.keys():\n",
    "    #print(aggr)\n",
    "    for group in SOCIAL_GROUPS[bias_type]:\n",
    "        #print(group, len(expl_predictions[aggr][group]), len(fairness_predictions[group]))\n",
    "        expl_preds = expl_predictions[aggr][group]\n",
    "        fairness_preds = fairness_predictions[group]\n",
    "\n",
    "        match = [1 if expl_preds[i] == fairness_preds[i] else 0 for i in range(len(expl_preds))]\n",
    "        #print(len(match) - sum(match), sum(match), len(match))\n",
    "        # find ids of mismatches\n",
    "        mismatches = [i for i in range(len(match)) if match[i] == 0]\n",
    "        #print(\"Mismatches:\", mismatches)\n",
    "        if len(mismatches) > 0:\n",
    "            print(group, aggr, \"Mismatches:\", len(mismatches), \"out of\", len(match))\n",
    "            print(\"Mismatch indices:\", mismatches)\n"
   ]
  }
 ],
 "metadata": {
  "kernelspec": {
   "display_name": "bcos",
   "language": "python",
   "name": "python3"
  },
  "language_info": {
   "codemirror_mode": {
    "name": "ipython",
    "version": 3
   },
   "file_extension": ".py",
   "mimetype": "text/x-python",
   "name": "python",
   "nbconvert_exporter": "python",
   "pygments_lexer": "ipython3",
   "version": "3.9.18"
  }
 },
 "nbformat": 4,
 "nbformat_minor": 5
}
